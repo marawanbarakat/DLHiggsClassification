{
 "cells": [
  {
   "cell_type": "code",
<<<<<<< HEAD
   "execution_count": 1,
=======
   "execution_count": 76,
>>>>>>> a961dbeb3a8ee957970ec7a90a4ce1e1d5f7a095
   "metadata": {},
   "outputs": [
    {
     "name": "stderr",
     "output_type": "stream",
     "text": [
      "/Users/asilar/opt/anaconda3/lib/python3.7/site-packages/tensorflow/python/framework/dtypes.py:526: FutureWarning: Passing (type, 1) or '1type' as a synonym of type is deprecated; in a future version of numpy, it will be understood as (type, (1,)) / '(1,)type'.\n",
      "  _np_qint8 = np.dtype([(\"qint8\", np.int8, 1)])\n",
      "/Users/asilar/opt/anaconda3/lib/python3.7/site-packages/tensorflow/python/framework/dtypes.py:527: FutureWarning: Passing (type, 1) or '1type' as a synonym of type is deprecated; in a future version of numpy, it will be understood as (type, (1,)) / '(1,)type'.\n",
      "  _np_quint8 = np.dtype([(\"quint8\", np.uint8, 1)])\n",
      "/Users/asilar/opt/anaconda3/lib/python3.7/site-packages/tensorflow/python/framework/dtypes.py:528: FutureWarning: Passing (type, 1) or '1type' as a synonym of type is deprecated; in a future version of numpy, it will be understood as (type, (1,)) / '(1,)type'.\n",
      "  _np_qint16 = np.dtype([(\"qint16\", np.int16, 1)])\n",
      "/Users/asilar/opt/anaconda3/lib/python3.7/site-packages/tensorflow/python/framework/dtypes.py:529: FutureWarning: Passing (type, 1) or '1type' as a synonym of type is deprecated; in a future version of numpy, it will be understood as (type, (1,)) / '(1,)type'.\n",
      "  _np_quint16 = np.dtype([(\"quint16\", np.uint16, 1)])\n",
      "/Users/asilar/opt/anaconda3/lib/python3.7/site-packages/tensorflow/python/framework/dtypes.py:530: FutureWarning: Passing (type, 1) or '1type' as a synonym of type is deprecated; in a future version of numpy, it will be understood as (type, (1,)) / '(1,)type'.\n",
      "  _np_qint32 = np.dtype([(\"qint32\", np.int32, 1)])\n",
      "/Users/asilar/opt/anaconda3/lib/python3.7/site-packages/tensorflow/python/framework/dtypes.py:535: FutureWarning: Passing (type, 1) or '1type' as a synonym of type is deprecated; in a future version of numpy, it will be understood as (type, (1,)) / '(1,)type'.\n",
      "  np_resource = np.dtype([(\"resource\", np.ubyte, 1)])\n"
     ]
    }
   ],
   "source": [
    "import tensorflow as tf\n",
    "import matplotlib.pyplot as plt\n",
    "import seaborn as sns\n",
    "import numpy as np \n",
    "import pandas as pd\n",
    "from sklearn.model_selection import train_test_split\n",
    "import tensorflow.keras as keras"
   ]
  },
  {
   "cell_type": "code",
<<<<<<< HEAD
   "execution_count": 2,
   "metadata": {},
   "outputs": [
    {
     "name": "stdout",
     "output_type": "stream",
     "text": [
      "1.13.1\n"
     ]
    }
   ],
   "source": [
    "print(tf.__version__)"
   ]
  },
  {
   "cell_type": "code",
   "execution_count": 10,
=======
   "execution_count": 77,
>>>>>>> a961dbeb3a8ee957970ec7a90a4ce1e1d5f7a095
   "metadata": {},
   "outputs": [
    {
     "data": {
      "text/html": [
       "<div>\n",
       "<style scoped>\n",
       "    .dataframe tbody tr th:only-of-type {\n",
       "        vertical-align: middle;\n",
       "    }\n",
       "\n",
       "    .dataframe tbody tr th {\n",
       "        vertical-align: top;\n",
       "    }\n",
       "\n",
       "    .dataframe thead th {\n",
       "        text-align: right;\n",
       "    }\n",
       "</style>\n",
       "<table border=\"1\" class=\"dataframe\">\n",
       "  <thead>\n",
       "    <tr style=\"text-align: right;\">\n",
       "      <th></th>\n",
       "      <th>EventId</th>\n",
       "      <th>DER_mass_MMC</th>\n",
       "      <th>DER_mass_transverse_met_lep</th>\n",
       "      <th>DER_mass_vis</th>\n",
       "      <th>DER_pt_h</th>\n",
       "      <th>DER_deltaeta_jet_jet</th>\n",
       "      <th>DER_mass_jet_jet</th>\n",
       "      <th>DER_prodeta_jet_jet</th>\n",
       "      <th>DER_deltar_tau_lep</th>\n",
       "      <th>DER_pt_tot</th>\n",
       "      <th>...</th>\n",
       "      <th>PRI_jet_num</th>\n",
       "      <th>PRI_jet_leading_pt</th>\n",
       "      <th>PRI_jet_leading_eta</th>\n",
       "      <th>PRI_jet_leading_phi</th>\n",
       "      <th>PRI_jet_subleading_pt</th>\n",
       "      <th>PRI_jet_subleading_eta</th>\n",
       "      <th>PRI_jet_subleading_phi</th>\n",
       "      <th>PRI_jet_all_pt</th>\n",
       "      <th>Weight</th>\n",
       "      <th>Label</th>\n",
       "    </tr>\n",
       "  </thead>\n",
       "  <tbody>\n",
       "    <tr>\n",
       "      <td>0</td>\n",
       "      <td>100000</td>\n",
       "      <td>138.470</td>\n",
       "      <td>51.655</td>\n",
       "      <td>97.827</td>\n",
       "      <td>27.980</td>\n",
       "      <td>0.91</td>\n",
       "      <td>124.711</td>\n",
       "      <td>2.666</td>\n",
       "      <td>3.064</td>\n",
       "      <td>41.928</td>\n",
       "      <td>...</td>\n",
       "      <td>2</td>\n",
       "      <td>67.435</td>\n",
       "      <td>2.150</td>\n",
       "      <td>0.444</td>\n",
       "      <td>46.062</td>\n",
       "      <td>1.24</td>\n",
       "      <td>-2.475</td>\n",
       "      <td>113.497</td>\n",
       "      <td>0.002653</td>\n",
       "      <td>s</td>\n",
       "    </tr>\n",
       "    <tr>\n",
       "      <td>1</td>\n",
       "      <td>100001</td>\n",
       "      <td>160.937</td>\n",
       "      <td>68.768</td>\n",
       "      <td>103.235</td>\n",
       "      <td>48.146</td>\n",
       "      <td>-999.00</td>\n",
       "      <td>-999.000</td>\n",
       "      <td>-999.000</td>\n",
       "      <td>3.473</td>\n",
       "      <td>2.078</td>\n",
       "      <td>...</td>\n",
       "      <td>1</td>\n",
       "      <td>46.226</td>\n",
       "      <td>0.725</td>\n",
       "      <td>1.158</td>\n",
       "      <td>-999.000</td>\n",
       "      <td>-999.00</td>\n",
       "      <td>-999.000</td>\n",
       "      <td>46.226</td>\n",
       "      <td>2.233584</td>\n",
       "      <td>b</td>\n",
       "    </tr>\n",
       "    <tr>\n",
       "      <td>2</td>\n",
       "      <td>100002</td>\n",
       "      <td>-999.000</td>\n",
       "      <td>162.172</td>\n",
       "      <td>125.953</td>\n",
       "      <td>35.635</td>\n",
       "      <td>-999.00</td>\n",
       "      <td>-999.000</td>\n",
       "      <td>-999.000</td>\n",
       "      <td>3.148</td>\n",
       "      <td>9.336</td>\n",
       "      <td>...</td>\n",
       "      <td>1</td>\n",
       "      <td>44.251</td>\n",
       "      <td>2.053</td>\n",
       "      <td>-2.028</td>\n",
       "      <td>-999.000</td>\n",
       "      <td>-999.00</td>\n",
       "      <td>-999.000</td>\n",
       "      <td>44.251</td>\n",
       "      <td>2.347389</td>\n",
       "      <td>b</td>\n",
       "    </tr>\n",
       "    <tr>\n",
       "      <td>3</td>\n",
       "      <td>100003</td>\n",
       "      <td>143.905</td>\n",
       "      <td>81.417</td>\n",
       "      <td>80.943</td>\n",
       "      <td>0.414</td>\n",
       "      <td>-999.00</td>\n",
       "      <td>-999.000</td>\n",
       "      <td>-999.000</td>\n",
       "      <td>3.310</td>\n",
       "      <td>0.414</td>\n",
       "      <td>...</td>\n",
       "      <td>0</td>\n",
       "      <td>-999.000</td>\n",
       "      <td>-999.000</td>\n",
       "      <td>-999.000</td>\n",
       "      <td>-999.000</td>\n",
       "      <td>-999.00</td>\n",
       "      <td>-999.000</td>\n",
       "      <td>-0.000</td>\n",
       "      <td>5.446378</td>\n",
       "      <td>b</td>\n",
       "    </tr>\n",
       "    <tr>\n",
       "      <td>4</td>\n",
       "      <td>100004</td>\n",
       "      <td>175.864</td>\n",
       "      <td>16.915</td>\n",
       "      <td>134.805</td>\n",
       "      <td>16.405</td>\n",
       "      <td>-999.00</td>\n",
       "      <td>-999.000</td>\n",
       "      <td>-999.000</td>\n",
       "      <td>3.891</td>\n",
       "      <td>16.405</td>\n",
       "      <td>...</td>\n",
       "      <td>0</td>\n",
       "      <td>-999.000</td>\n",
       "      <td>-999.000</td>\n",
       "      <td>-999.000</td>\n",
       "      <td>-999.000</td>\n",
       "      <td>-999.00</td>\n",
       "      <td>-999.000</td>\n",
       "      <td>0.000</td>\n",
       "      <td>6.245333</td>\n",
       "      <td>b</td>\n",
       "    </tr>\n",
       "  </tbody>\n",
       "</table>\n",
       "<p>5 rows × 33 columns</p>\n",
       "</div>"
      ],
      "text/plain": [
       "   EventId  DER_mass_MMC  DER_mass_transverse_met_lep  DER_mass_vis  DER_pt_h  \\\n",
       "0   100000       138.470                       51.655        97.827    27.980   \n",
       "1   100001       160.937                       68.768       103.235    48.146   \n",
       "2   100002      -999.000                      162.172       125.953    35.635   \n",
       "3   100003       143.905                       81.417        80.943     0.414   \n",
       "4   100004       175.864                       16.915       134.805    16.405   \n",
       "\n",
       "   DER_deltaeta_jet_jet  DER_mass_jet_jet  DER_prodeta_jet_jet  \\\n",
       "0                  0.91           124.711                2.666   \n",
       "1               -999.00          -999.000             -999.000   \n",
       "2               -999.00          -999.000             -999.000   \n",
       "3               -999.00          -999.000             -999.000   \n",
       "4               -999.00          -999.000             -999.000   \n",
       "\n",
       "   DER_deltar_tau_lep  DER_pt_tot  ...  PRI_jet_num  PRI_jet_leading_pt  \\\n",
       "0               3.064      41.928  ...            2              67.435   \n",
       "1               3.473       2.078  ...            1              46.226   \n",
       "2               3.148       9.336  ...            1              44.251   \n",
       "3               3.310       0.414  ...            0            -999.000   \n",
       "4               3.891      16.405  ...            0            -999.000   \n",
       "\n",
       "   PRI_jet_leading_eta  PRI_jet_leading_phi  PRI_jet_subleading_pt  \\\n",
       "0                2.150                0.444                 46.062   \n",
       "1                0.725                1.158               -999.000   \n",
       "2                2.053               -2.028               -999.000   \n",
       "3             -999.000             -999.000               -999.000   \n",
       "4             -999.000             -999.000               -999.000   \n",
       "\n",
       "   PRI_jet_subleading_eta  PRI_jet_subleading_phi  PRI_jet_all_pt    Weight  \\\n",
       "0                    1.24                  -2.475         113.497  0.002653   \n",
       "1                 -999.00                -999.000          46.226  2.233584   \n",
       "2                 -999.00                -999.000          44.251  2.347389   \n",
       "3                 -999.00                -999.000          -0.000  5.446378   \n",
       "4                 -999.00                -999.000           0.000  6.245333   \n",
       "\n",
       "   Label  \n",
       "0      s  \n",
       "1      b  \n",
       "2      b  \n",
       "3      b  \n",
       "4      b  \n",
       "\n",
       "[5 rows x 33 columns]"
      ]
     },
     "execution_count": 77,
     "metadata": {},
     "output_type": "execute_result"
    }
   ],
   "source": [
    "df =pd.read_csv('../data/training.csv')\n",
    "df.head()"
   ]
  },
  {
   "cell_type": "code",
   "execution_count": 78,
   "metadata": {},
   "outputs": [
    {
     "data": {
      "text/html": [
       "<div>\n",
       "<style scoped>\n",
       "    .dataframe tbody tr th:only-of-type {\n",
       "        vertical-align: middle;\n",
       "    }\n",
       "\n",
       "    .dataframe tbody tr th {\n",
       "        vertical-align: top;\n",
       "    }\n",
       "\n",
       "    .dataframe thead th {\n",
       "        text-align: right;\n",
       "    }\n",
       "</style>\n",
       "<table border=\"1\" class=\"dataframe\">\n",
       "  <thead>\n",
       "    <tr style=\"text-align: right;\">\n",
       "      <th></th>\n",
       "      <th>EventId</th>\n",
       "      <th>DER_mass_MMC</th>\n",
       "      <th>DER_mass_transverse_met_lep</th>\n",
       "      <th>DER_mass_vis</th>\n",
       "      <th>DER_pt_h</th>\n",
       "      <th>DER_deltaeta_jet_jet</th>\n",
       "      <th>DER_mass_jet_jet</th>\n",
       "      <th>DER_prodeta_jet_jet</th>\n",
       "      <th>DER_deltar_tau_lep</th>\n",
       "      <th>DER_pt_tot</th>\n",
       "      <th>...</th>\n",
       "      <th>PRI_met_phi</th>\n",
       "      <th>PRI_met_sumet</th>\n",
       "      <th>PRI_jet_num</th>\n",
       "      <th>PRI_jet_leading_pt</th>\n",
       "      <th>PRI_jet_leading_eta</th>\n",
       "      <th>PRI_jet_leading_phi</th>\n",
       "      <th>PRI_jet_subleading_pt</th>\n",
       "      <th>PRI_jet_subleading_eta</th>\n",
       "      <th>PRI_jet_subleading_phi</th>\n",
       "      <th>PRI_jet_all_pt</th>\n",
       "    </tr>\n",
       "  </thead>\n",
       "  <tbody>\n",
       "    <tr>\n",
       "      <td>0</td>\n",
       "      <td>350000</td>\n",
       "      <td>-999.000</td>\n",
       "      <td>79.589</td>\n",
       "      <td>23.916</td>\n",
       "      <td>3.036</td>\n",
       "      <td>-999.000</td>\n",
       "      <td>-999.000</td>\n",
       "      <td>-999.000</td>\n",
       "      <td>0.903</td>\n",
       "      <td>3.036</td>\n",
       "      <td>...</td>\n",
       "      <td>2.022</td>\n",
       "      <td>98.556</td>\n",
       "      <td>0</td>\n",
       "      <td>-999.000</td>\n",
       "      <td>-999.000</td>\n",
       "      <td>-999.000</td>\n",
       "      <td>-999.000</td>\n",
       "      <td>-999.000</td>\n",
       "      <td>-999.000</td>\n",
       "      <td>-0.000</td>\n",
       "    </tr>\n",
       "    <tr>\n",
       "      <td>1</td>\n",
       "      <td>350001</td>\n",
       "      <td>106.398</td>\n",
       "      <td>67.490</td>\n",
       "      <td>87.949</td>\n",
       "      <td>49.994</td>\n",
       "      <td>-999.000</td>\n",
       "      <td>-999.000</td>\n",
       "      <td>-999.000</td>\n",
       "      <td>2.048</td>\n",
       "      <td>2.679</td>\n",
       "      <td>...</td>\n",
       "      <td>-1.138</td>\n",
       "      <td>176.251</td>\n",
       "      <td>1</td>\n",
       "      <td>47.575</td>\n",
       "      <td>-0.553</td>\n",
       "      <td>-0.849</td>\n",
       "      <td>-999.000</td>\n",
       "      <td>-999.000</td>\n",
       "      <td>-999.000</td>\n",
       "      <td>47.575</td>\n",
       "    </tr>\n",
       "    <tr>\n",
       "      <td>2</td>\n",
       "      <td>350002</td>\n",
       "      <td>117.794</td>\n",
       "      <td>56.226</td>\n",
       "      <td>96.358</td>\n",
       "      <td>4.137</td>\n",
       "      <td>-999.000</td>\n",
       "      <td>-999.000</td>\n",
       "      <td>-999.000</td>\n",
       "      <td>2.755</td>\n",
       "      <td>4.137</td>\n",
       "      <td>...</td>\n",
       "      <td>-1.868</td>\n",
       "      <td>111.505</td>\n",
       "      <td>0</td>\n",
       "      <td>-999.000</td>\n",
       "      <td>-999.000</td>\n",
       "      <td>-999.000</td>\n",
       "      <td>-999.000</td>\n",
       "      <td>-999.000</td>\n",
       "      <td>-999.000</td>\n",
       "      <td>0.000</td>\n",
       "    </tr>\n",
       "    <tr>\n",
       "      <td>3</td>\n",
       "      <td>350003</td>\n",
       "      <td>135.861</td>\n",
       "      <td>30.604</td>\n",
       "      <td>97.288</td>\n",
       "      <td>9.104</td>\n",
       "      <td>-999.000</td>\n",
       "      <td>-999.000</td>\n",
       "      <td>-999.000</td>\n",
       "      <td>2.811</td>\n",
       "      <td>9.104</td>\n",
       "      <td>...</td>\n",
       "      <td>1.172</td>\n",
       "      <td>164.707</td>\n",
       "      <td>0</td>\n",
       "      <td>-999.000</td>\n",
       "      <td>-999.000</td>\n",
       "      <td>-999.000</td>\n",
       "      <td>-999.000</td>\n",
       "      <td>-999.000</td>\n",
       "      <td>-999.000</td>\n",
       "      <td>0.000</td>\n",
       "    </tr>\n",
       "    <tr>\n",
       "      <td>4</td>\n",
       "      <td>350004</td>\n",
       "      <td>74.159</td>\n",
       "      <td>82.772</td>\n",
       "      <td>58.731</td>\n",
       "      <td>89.646</td>\n",
       "      <td>1.347</td>\n",
       "      <td>536.663</td>\n",
       "      <td>-0.339</td>\n",
       "      <td>1.028</td>\n",
       "      <td>77.213</td>\n",
       "      <td>...</td>\n",
       "      <td>-0.231</td>\n",
       "      <td>869.614</td>\n",
       "      <td>3</td>\n",
       "      <td>254.085</td>\n",
       "      <td>-1.013</td>\n",
       "      <td>-0.334</td>\n",
       "      <td>185.857</td>\n",
       "      <td>0.335</td>\n",
       "      <td>2.587</td>\n",
       "      <td>599.213</td>\n",
       "    </tr>\n",
       "  </tbody>\n",
       "</table>\n",
       "<p>5 rows × 31 columns</p>\n",
       "</div>"
      ],
      "text/plain": [
       "   EventId  DER_mass_MMC  DER_mass_transverse_met_lep  DER_mass_vis  DER_pt_h  \\\n",
       "0   350000      -999.000                       79.589        23.916     3.036   \n",
       "1   350001       106.398                       67.490        87.949    49.994   \n",
       "2   350002       117.794                       56.226        96.358     4.137   \n",
       "3   350003       135.861                       30.604        97.288     9.104   \n",
       "4   350004        74.159                       82.772        58.731    89.646   \n",
       "\n",
       "   DER_deltaeta_jet_jet  DER_mass_jet_jet  DER_prodeta_jet_jet  \\\n",
       "0              -999.000          -999.000             -999.000   \n",
       "1              -999.000          -999.000             -999.000   \n",
       "2              -999.000          -999.000             -999.000   \n",
       "3              -999.000          -999.000             -999.000   \n",
       "4                 1.347           536.663               -0.339   \n",
       "\n",
       "   DER_deltar_tau_lep  DER_pt_tot  ...  PRI_met_phi  PRI_met_sumet  \\\n",
       "0               0.903       3.036  ...        2.022         98.556   \n",
       "1               2.048       2.679  ...       -1.138        176.251   \n",
       "2               2.755       4.137  ...       -1.868        111.505   \n",
       "3               2.811       9.104  ...        1.172        164.707   \n",
       "4               1.028      77.213  ...       -0.231        869.614   \n",
       "\n",
       "   PRI_jet_num  PRI_jet_leading_pt  PRI_jet_leading_eta  PRI_jet_leading_phi  \\\n",
       "0            0            -999.000             -999.000             -999.000   \n",
       "1            1              47.575               -0.553               -0.849   \n",
       "2            0            -999.000             -999.000             -999.000   \n",
       "3            0            -999.000             -999.000             -999.000   \n",
       "4            3             254.085               -1.013               -0.334   \n",
       "\n",
       "   PRI_jet_subleading_pt  PRI_jet_subleading_eta  PRI_jet_subleading_phi  \\\n",
       "0               -999.000                -999.000                -999.000   \n",
       "1               -999.000                -999.000                -999.000   \n",
       "2               -999.000                -999.000                -999.000   \n",
       "3               -999.000                -999.000                -999.000   \n",
       "4                185.857                   0.335                   2.587   \n",
       "\n",
       "   PRI_jet_all_pt  \n",
       "0          -0.000  \n",
       "1          47.575  \n",
       "2           0.000  \n",
       "3           0.000  \n",
       "4         599.213  \n",
       "\n",
       "[5 rows x 31 columns]"
      ]
     },
     "execution_count": 78,
     "metadata": {},
     "output_type": "execute_result"
    }
   ],
   "source": [
    "tst=pd.read_csv('../data/test.csv')\n",
    "tst.head()"
   ]
  },
  {
   "cell_type": "code",
   "execution_count": 79,
   "metadata": {},
   "outputs": [
    {
     "data": {
      "text/plain": [
       "Index(['EventId', 'DER_mass_MMC', 'DER_mass_transverse_met_lep',\n",
       "       'DER_mass_vis', 'DER_pt_h', 'DER_deltaeta_jet_jet', 'DER_mass_jet_jet',\n",
       "       'DER_prodeta_jet_jet', 'DER_deltar_tau_lep', 'DER_pt_tot', 'DER_sum_pt',\n",
       "       'DER_pt_ratio_lep_tau', 'DER_met_phi_centrality',\n",
       "       'DER_lep_eta_centrality', 'PRI_tau_pt', 'PRI_tau_eta', 'PRI_tau_phi',\n",
       "       'PRI_lep_pt', 'PRI_lep_eta', 'PRI_lep_phi', 'PRI_met', 'PRI_met_phi',\n",
       "       'PRI_met_sumet', 'PRI_jet_num', 'PRI_jet_leading_pt',\n",
       "       'PRI_jet_leading_eta', 'PRI_jet_leading_phi', 'PRI_jet_subleading_pt',\n",
       "       'PRI_jet_subleading_eta', 'PRI_jet_subleading_phi', 'PRI_jet_all_pt',\n",
       "       'Weight', 'Label'],\n",
       "      dtype='object')"
      ]
     },
     "execution_count": 79,
     "metadata": {},
     "output_type": "execute_result"
    }
   ],
   "source": [
    "df.columns"
   ]
  },
  {
   "cell_type": "code",
   "execution_count": 80,
   "metadata": {},
   "outputs": [
    {
     "data": {
      "text/plain": [
       "(250000, 33)"
      ]
     },
     "execution_count": 80,
     "metadata": {},
     "output_type": "execute_result"
    }
   ],
   "source": [
    "df.shape"
   ]
  },
  {
   "cell_type": "code",
   "execution_count": 81,
   "metadata": {},
   "outputs": [
    {
     "data": {
      "text/plain": [
       "(68114, 33)"
      ]
     },
     "execution_count": 81,
     "metadata": {},
     "output_type": "execute_result"
    }
   ],
   "source": [
    "df = df.replace(-999, np.nan)\n",
    "df = df.dropna()\n",
    "df.shape\n"
   ]
  },
  {
   "cell_type": "code",
   "execution_count": 82,
   "metadata": {},
   "outputs": [
    {
     "data": {
      "text/plain": [
       "Text(0, 0.5, 'Events')"
      ]
     },
     "execution_count": 82,
     "metadata": {},
     "output_type": "execute_result"
    },
    {
     "data": {
      "image/png": "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\n",
      "text/plain": [
       "<Figure size 432x288 with 1 Axes>"
      ]
     },
     "metadata": {
      "needs_background": "light"
     },
     "output_type": "display_data"
    }
   ],
   "source": [
    "n, bins, patches = plt.hist(x=df['DER_mass_MMC'], bins='auto')\n",
    "plt.xlabel(\"Higgs MMC\")\n",
    "plt.ylabel(\"Events\")\n",
    "#plt.ylim(ymax=8000)\n",
    "#plt.xlim(xmin =0,xmax=800)\n",
    "\n"
   ]
  },
  {
   "cell_type": "code",
   "execution_count": 83,
   "metadata": {},
   "outputs": [
    {
     "data": {
      "text/plain": [
       "Text(0, 0.5, 'Events')"
      ]
     },
     "execution_count": 83,
     "metadata": {},
     "output_type": "execute_result"
    },
    {
     "data": {
      "image/png": "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\n",
      "text/plain": [
       "<Figure size 432x288 with 1 Axes>"
      ]
     },
     "metadata": {
      "needs_background": "light"
     },
     "output_type": "display_data"
    }
   ],
   "source": [
    "n, bins, patches = plt.hist(x=df['Label'], bins='auto')\n",
    "plt.xlabel(\"S or B\")\n",
    "plt.ylabel(\"Events\")"
   ]
  },
  {
   "cell_type": "code",
   "execution_count": 84,
   "metadata": {},
   "outputs": [
    {
     "data": {
      "text/plain": [
       "array([[<matplotlib.axes._subplots.AxesSubplot object at 0x1a43c34bd0>,\n",
       "        <matplotlib.axes._subplots.AxesSubplot object at 0x1a43c71790>,\n",
       "        <matplotlib.axes._subplots.AxesSubplot object at 0x1a43ca3f10>,\n",
       "        <matplotlib.axes._subplots.AxesSubplot object at 0x1a43ce6750>,\n",
       "        <matplotlib.axes._subplots.AxesSubplot object at 0x1a43d19f50>],\n",
       "       [<matplotlib.axes._subplots.AxesSubplot object at 0x1a43d5a790>,\n",
       "        <matplotlib.axes._subplots.AxesSubplot object at 0x1a43d8df90>,\n",
       "        <matplotlib.axes._subplots.AxesSubplot object at 0x1a43dd27d0>,\n",
       "        <matplotlib.axes._subplots.AxesSubplot object at 0x1a43ddc350>,\n",
       "        <matplotlib.axes._subplots.AxesSubplot object at 0x1a43e0fcd0>],\n",
       "       [<matplotlib.axes._subplots.AxesSubplot object at 0x1a43e79f90>,\n",
       "        <matplotlib.axes._subplots.AxesSubplot object at 0x1a43eba850>,\n",
       "        <matplotlib.axes._subplots.AxesSubplot object at 0x1a43ef8bd0>,\n",
       "        <matplotlib.axes._subplots.AxesSubplot object at 0x1a43f30890>,\n",
       "        <matplotlib.axes._subplots.AxesSubplot object at 0x1a43f6ec10>],\n",
       "       [<matplotlib.axes._subplots.AxesSubplot object at 0x1a43fa58d0>,\n",
       "        <matplotlib.axes._subplots.AxesSubplot object at 0x1a43fe3c50>,\n",
       "        <matplotlib.axes._subplots.AxesSubplot object at 0x1a4401c910>,\n",
       "        <matplotlib.axes._subplots.AxesSubplot object at 0x1a44059c90>,\n",
       "        <matplotlib.axes._subplots.AxesSubplot object at 0x1a4408f950>],\n",
       "       [<matplotlib.axes._subplots.AxesSubplot object at 0x1a440cecd0>,\n",
       "        <matplotlib.axes._subplots.AxesSubplot object at 0x1a44104990>,\n",
       "        <matplotlib.axes._subplots.AxesSubplot object at 0x1a44143d10>,\n",
       "        <matplotlib.axes._subplots.AxesSubplot object at 0x1a4417c9d0>,\n",
       "        <matplotlib.axes._subplots.AxesSubplot object at 0x1a441b9d50>],\n",
       "       [<matplotlib.axes._subplots.AxesSubplot object at 0x1a44401a10>,\n",
       "        <matplotlib.axes._subplots.AxesSubplot object at 0x1a4443fd90>,\n",
       "        <matplotlib.axes._subplots.AxesSubplot object at 0x1a44476a50>,\n",
       "        <matplotlib.axes._subplots.AxesSubplot object at 0x1a444b5dd0>,\n",
       "        <matplotlib.axes._subplots.AxesSubplot object at 0x1a444eba90>]],\n",
       "      dtype=object)"
      ]
     },
     "execution_count": 84,
     "metadata": {},
     "output_type": "execute_result"
    },
    {
     "data": {
      "image/png": "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\n",
      "text/plain": [
       "<Figure size 1440x1440 with 30 Axes>"
      ]
     },
     "metadata": {
      "needs_background": "light"
     },
     "output_type": "display_data"
    }
   ],
   "source": [
    "df_droped = df.drop(['EventId', 'Weight'], axis=1)\n",
    "df_droped.hist(figsize=(20, 20))"
   ]
  },
  {
   "cell_type": "code",
   "execution_count": 85,
   "metadata": {},
   "outputs": [
    {
     "data": {
      "text/html": [
       "<div>\n",
       "<style scoped>\n",
       "    .dataframe tbody tr th:only-of-type {\n",
       "        vertical-align: middle;\n",
       "    }\n",
       "\n",
       "    .dataframe tbody tr th {\n",
       "        vertical-align: top;\n",
       "    }\n",
       "\n",
       "    .dataframe thead th {\n",
       "        text-align: right;\n",
       "    }\n",
       "</style>\n",
       "<table border=\"1\" class=\"dataframe\">\n",
       "  <thead>\n",
       "    <tr style=\"text-align: right;\">\n",
       "      <th></th>\n",
       "      <th>DER_mass_MMC</th>\n",
       "      <th>DER_mass_transverse_met_lep</th>\n",
       "      <th>DER_mass_vis</th>\n",
       "      <th>DER_pt_h</th>\n",
       "      <th>DER_deltaeta_jet_jet</th>\n",
       "      <th>DER_mass_jet_jet</th>\n",
       "      <th>DER_prodeta_jet_jet</th>\n",
       "      <th>DER_deltar_tau_lep</th>\n",
       "      <th>DER_pt_tot</th>\n",
       "      <th>DER_sum_pt</th>\n",
       "      <th>...</th>\n",
       "      <th>PRI_met_phi</th>\n",
       "      <th>PRI_met_sumet</th>\n",
       "      <th>PRI_jet_num</th>\n",
       "      <th>PRI_jet_leading_pt</th>\n",
       "      <th>PRI_jet_leading_eta</th>\n",
       "      <th>PRI_jet_leading_phi</th>\n",
       "      <th>PRI_jet_subleading_pt</th>\n",
       "      <th>PRI_jet_subleading_eta</th>\n",
       "      <th>PRI_jet_subleading_phi</th>\n",
       "      <th>PRI_jet_all_pt</th>\n",
       "    </tr>\n",
       "  </thead>\n",
       "  <tbody>\n",
       "    <tr>\n",
       "      <td>195062</td>\n",
       "      <td>102.356</td>\n",
       "      <td>36.686</td>\n",
       "      <td>69.990</td>\n",
       "      <td>86.525</td>\n",
       "      <td>0.025</td>\n",
       "      <td>108.756</td>\n",
       "      <td>0.087</td>\n",
       "      <td>2.689</td>\n",
       "      <td>23.164</td>\n",
       "      <td>207.301</td>\n",
       "      <td>...</td>\n",
       "      <td>-0.715</td>\n",
       "      <td>269.298</td>\n",
       "      <td>2</td>\n",
       "      <td>82.133</td>\n",
       "      <td>0.283</td>\n",
       "      <td>1.592</td>\n",
       "      <td>42.219</td>\n",
       "      <td>0.307</td>\n",
       "      <td>-2.445</td>\n",
       "      <td>124.352</td>\n",
       "    </tr>\n",
       "    <tr>\n",
       "      <td>19447</td>\n",
       "      <td>106.684</td>\n",
       "      <td>15.062</td>\n",
       "      <td>66.468</td>\n",
       "      <td>57.731</td>\n",
       "      <td>5.063</td>\n",
       "      <td>594.116</td>\n",
       "      <td>-6.397</td>\n",
       "      <td>2.940</td>\n",
       "      <td>6.334</td>\n",
       "      <td>151.194</td>\n",
       "      <td>...</td>\n",
       "      <td>1.120</td>\n",
       "      <td>195.275</td>\n",
       "      <td>2</td>\n",
       "      <td>51.427</td>\n",
       "      <td>2.643</td>\n",
       "      <td>-1.145</td>\n",
       "      <td>43.186</td>\n",
       "      <td>-2.420</td>\n",
       "      <td>-3.128</td>\n",
       "      <td>94.612</td>\n",
       "    </tr>\n",
       "    <tr>\n",
       "      <td>123796</td>\n",
       "      <td>178.123</td>\n",
       "      <td>11.300</td>\n",
       "      <td>108.501</td>\n",
       "      <td>10.687</td>\n",
       "      <td>4.589</td>\n",
       "      <td>785.494</td>\n",
       "      <td>-4.031</td>\n",
       "      <td>3.259</td>\n",
       "      <td>2.302</td>\n",
       "      <td>253.788</td>\n",
       "      <td>...</td>\n",
       "      <td>-1.508</td>\n",
       "      <td>272.160</td>\n",
       "      <td>2</td>\n",
       "      <td>80.002</td>\n",
       "      <td>3.405</td>\n",
       "      <td>-0.009</td>\n",
       "      <td>76.572</td>\n",
       "      <td>-1.184</td>\n",
       "      <td>2.976</td>\n",
       "      <td>156.574</td>\n",
       "    </tr>\n",
       "    <tr>\n",
       "      <td>176187</td>\n",
       "      <td>57.145</td>\n",
       "      <td>28.642</td>\n",
       "      <td>30.769</td>\n",
       "      <td>120.084</td>\n",
       "      <td>3.625</td>\n",
       "      <td>419.743</td>\n",
       "      <td>-2.691</td>\n",
       "      <td>1.084</td>\n",
       "      <td>26.618</td>\n",
       "      <td>200.373</td>\n",
       "      <td>...</td>\n",
       "      <td>1.151</td>\n",
       "      <td>238.831</td>\n",
       "      <td>2</td>\n",
       "      <td>72.996</td>\n",
       "      <td>2.584</td>\n",
       "      <td>-2.900</td>\n",
       "      <td>65.036</td>\n",
       "      <td>-1.041</td>\n",
       "      <td>-1.622</td>\n",
       "      <td>138.032</td>\n",
       "    </tr>\n",
       "    <tr>\n",
       "      <td>104263</td>\n",
       "      <td>113.133</td>\n",
       "      <td>7.875</td>\n",
       "      <td>58.398</td>\n",
       "      <td>172.267</td>\n",
       "      <td>0.141</td>\n",
       "      <td>314.673</td>\n",
       "      <td>-0.004</td>\n",
       "      <td>1.510</td>\n",
       "      <td>24.538</td>\n",
       "      <td>443.391</td>\n",
       "      <td>...</td>\n",
       "      <td>0.218</td>\n",
       "      <td>503.328</td>\n",
       "      <td>2</td>\n",
       "      <td>241.025</td>\n",
       "      <td>-0.099</td>\n",
       "      <td>2.836</td>\n",
       "      <td>123.404</td>\n",
       "      <td>0.042</td>\n",
       "      <td>-1.196</td>\n",
       "      <td>364.428</td>\n",
       "    </tr>\n",
       "  </tbody>\n",
       "</table>\n",
       "<p>5 rows × 30 columns</p>\n",
       "</div>"
      ],
      "text/plain": [
       "        DER_mass_MMC  DER_mass_transverse_met_lep  DER_mass_vis  DER_pt_h  \\\n",
       "195062       102.356                       36.686        69.990    86.525   \n",
       "19447        106.684                       15.062        66.468    57.731   \n",
       "123796       178.123                       11.300       108.501    10.687   \n",
       "176187        57.145                       28.642        30.769   120.084   \n",
       "104263       113.133                        7.875        58.398   172.267   \n",
       "\n",
       "        DER_deltaeta_jet_jet  DER_mass_jet_jet  DER_prodeta_jet_jet  \\\n",
       "195062                 0.025           108.756                0.087   \n",
       "19447                  5.063           594.116               -6.397   \n",
       "123796                 4.589           785.494               -4.031   \n",
       "176187                 3.625           419.743               -2.691   \n",
       "104263                 0.141           314.673               -0.004   \n",
       "\n",
       "        DER_deltar_tau_lep  DER_pt_tot  DER_sum_pt  ...  PRI_met_phi  \\\n",
       "195062               2.689      23.164     207.301  ...       -0.715   \n",
       "19447                2.940       6.334     151.194  ...        1.120   \n",
       "123796               3.259       2.302     253.788  ...       -1.508   \n",
       "176187               1.084      26.618     200.373  ...        1.151   \n",
       "104263               1.510      24.538     443.391  ...        0.218   \n",
       "\n",
       "        PRI_met_sumet  PRI_jet_num  PRI_jet_leading_pt  PRI_jet_leading_eta  \\\n",
       "195062        269.298            2              82.133                0.283   \n",
       "19447         195.275            2              51.427                2.643   \n",
       "123796        272.160            2              80.002                3.405   \n",
       "176187        238.831            2              72.996                2.584   \n",
       "104263        503.328            2             241.025               -0.099   \n",
       "\n",
       "        PRI_jet_leading_phi  PRI_jet_subleading_pt  PRI_jet_subleading_eta  \\\n",
       "195062                1.592                 42.219                   0.307   \n",
       "19447                -1.145                 43.186                  -2.420   \n",
       "123796               -0.009                 76.572                  -1.184   \n",
       "176187               -2.900                 65.036                  -1.041   \n",
       "104263                2.836                123.404                   0.042   \n",
       "\n",
       "        PRI_jet_subleading_phi  PRI_jet_all_pt  \n",
       "195062                  -2.445         124.352  \n",
       "19447                   -3.128          94.612  \n",
       "123796                   2.976         156.574  \n",
       "176187                  -1.622         138.032  \n",
       "104263                  -1.196         364.428  \n",
       "\n",
       "[5 rows x 30 columns]"
      ]
     },
     "execution_count": 85,
     "metadata": {},
     "output_type": "execute_result"
    }
   ],
   "source": [
    "df_droped['Label'] = df_droped['Label'].apply({'s':1, 'b':0}.get)\n",
    "X_train, X_test, y_train, y_test = train_test_split(df_droped.drop(['Label'], axis=1), df_droped['Label'], test_size=0.2, random_state=0)\n",
    "X_test.head()\n",
    "#X_train.head()\n"
   ]
  },
  {
   "cell_type": "code",
   "execution_count": 86,
   "metadata": {},
   "outputs": [
    {
     "data": {
      "text/plain": [
       "93095     1\n",
       "154536    0\n",
       "210131    1\n",
       "224451    1\n",
       "176158    1\n",
       "Name: Label, dtype: int64"
      ]
     },
     "execution_count": 86,
     "metadata": {},
     "output_type": "execute_result"
    }
   ],
   "source": [
    "y_train.head()"
   ]
  },
  {
   "cell_type": "code",
   "execution_count": 87,
   "metadata": {},
   "outputs": [],
   "source": [
    "# convert from csv to numpy array\n",
    "y_train = y_train.to_numpy()\n",
    "y_test = y_test.to_numpy()"
   ]
  },
  {
   "cell_type": "code",
   "execution_count": 88,
   "metadata": {},
   "outputs": [],
   "source": [
    "# Import `StandardScaler` from `sklearn.preprocessing`\n",
    "from sklearn.preprocessing import StandardScaler\n",
    "\n",
    "# Define the scaler \n",
    "scaler = StandardScaler().fit(X_train)\n",
    "\n",
    "# Scale the train set\n",
    "X_train = scaler.transform(X_train)\n",
    "\n",
    "# Scale the test set\n",
    "X_test = scaler.transform(X_test)"
   ]
  },
  {
   "cell_type": "code",
   "execution_count": 89,
   "metadata": {},
   "outputs": [
    {
     "name": "stdout",
     "output_type": "stream",
     "text": [
      "(54491, 30)\n"
     ]
    }
   ],
   "source": [
    "print(X_train.shape)"
   ]
  },
  {
   "cell_type": "code",
   "execution_count": 98,
   "metadata": {},
   "outputs": [],
   "source": [
    "#data is ready build DNN model\n",
    "from tensorflow.keras.models import Sequential\n",
    "from tensorflow.keras import layers, optimizers, regularizers\n",
    "from tensorflow.keras.layers import Flatten , Activation\n",
    "from tensorflow.keras.layers import Dense\n",
    "from keras.wrappers.scikit_learn import KerasClassifier"
   ]
  },
  {
   "cell_type": "code",
   "execution_count": 99,
   "metadata": {},
   "outputs": [],
   "source": [
    "#import keras.backend as K\n",
    "model = Sequential()\n",
    "\n",
    "model.add(Flatten())\n",
    "\n",
    "# Add an input layer \n",
    "model.add(Dense(1000))\n",
    "model.add(Activation(\"relu\")) \n",
    "\n",
    "model.add(Dense(100))\n",
    "model.add(Activation(\"relu\"))          \n",
    "\n",
    "#model.add(Dense(100))\n",
    "#model.add(Activation(\"relu\")) \n",
    "\n",
    "# Add 2nd hidden layer\n",
    "model.add(Dense(8))\n",
    "model.add(Activation(\"relu\"))          \n",
    "          \n",
    "\n",
    "# Add an output layer \n",
    "model.add(Dense(2, activation='sigmoid'))\n",
    "\n",
    "# define Parameters for the training of the model\n",
    "# Good default optimizer to start with , how will we calculate our \"error.\" Neural network aims to minimize loss.\n",
    "\n",
    "\n",
    "model.compile(loss='binary_crossentropy', optimizer='adam',metrics=['accuracy'])\n",
    "\n",
    "#     adam~gradient descent  \\ loss = degree of error \\  metrics =  what to track\n",
    "\n",
    "\n",
    "    \n",
    "\n",
    "    \n",
    "\n",
    "\n",
    "\n",
    "\n"
   ]
  },
  {
   "cell_type": "code",
   "execution_count": 100,
   "metadata": {},
   "outputs": [
    {
     "name": "stdout",
     "output_type": "stream",
     "text": [
      "Epoch 1/10\n",
      "54491/54491 [==============================] - 4s 66us/sample - loss: 0.3921 - acc: 0.8247\n",
      "Epoch 2/10\n",
      "54491/54491 [==============================] - 3s 58us/sample - loss: 0.3636 - acc: 0.8407\n",
      "Epoch 3/10\n",
      "54491/54491 [==============================] - 3s 57us/sample - loss: 0.3558 - acc: 0.8443\n",
      "Epoch 4/10\n",
      "54491/54491 [==============================] - 3s 58us/sample - loss: 0.3487 - acc: 0.8474\n",
      "Epoch 5/10\n",
      "54491/54491 [==============================] - 3s 59us/sample - loss: 0.3432 - acc: 0.8504\n",
      "Epoch 6/10\n",
      "54491/54491 [==============================] - 3s 60us/sample - loss: 0.3386 - acc: 0.8524\n",
      "Epoch 7/10\n",
      "54491/54491 [==============================] - 3s 62us/sample - loss: 0.3336 - acc: 0.8534\n",
      "Epoch 8/10\n",
      "54491/54491 [==============================] - 3s 59us/sample - loss: 0.3300 - acc: 0.8556\n",
      "Epoch 9/10\n",
      "54491/54491 [==============================] - 3s 58us/sample - loss: 0.3253 - acc: 0.8572\n",
      "Epoch 10/10\n",
      "54491/54491 [==============================] - 3s 59us/sample - loss: 0.3211 - acc: 0.8604\n"
     ]
    },
    {
     "data": {
      "text/plain": [
       "<tensorflow.python.keras.callbacks.History at 0x1a42035bd0>"
      ]
     },
     "execution_count": 100,
     "metadata": {},
     "output_type": "execute_result"
    }
   ],
   "source": [
    "# Initialize the constructor\n",
    "# train the model !\n",
    "\n",
    "model.fit(X_train,y_train, epochs=10 ,batch_size=32)\n"
   ]
  },
  {
   "cell_type": "code",
   "execution_count": 93,
   "metadata": {},
   "outputs": [],
   "source": [
    "#model.summary()"
   ]
  },
  {
   "cell_type": "code",
   "execution_count": 94,
   "metadata": {},
   "outputs": [
    {
     "name": "stdout",
     "output_type": "stream",
     "text": [
      "13623/13623 [==============================] - 0s 28us/sample - loss: 0.5164 - acc: 0.8238\n",
      "0.5163760484686895\n",
      "0.82375395\n"
     ]
    }
   ],
   "source": [
    "#after training we introduce the model to the test dataset\n",
    "model.evaluate(X_test,y_test)\n",
    "#val_loss, val_acc = model.evaluate(X_test, y_test) # evaluate the out of sample data with model\n",
    "#print(val_loss) #model's loss\n",
    "#print(val_acc)  #model's accuracy"
   ]
  },
  {
   "cell_type": "code",
   "execution_count": 95,
   "metadata": {},
   "outputs": [
    {
     "name": "stdout",
     "output_type": "stream",
     "text": [
      "[0 1 1 ... 1 1 0]\n",
      "(13623,)\n",
      "[[0.07909343 0.07908103]\n",
      " [0.9838162  0.9838269 ]\n",
      " [1.         1.        ]\n",
      " ...\n",
      " [0.7789744  0.779014  ]\n",
      " [0.00875437 0.00875149]\n",
      " [0.3700768  0.3700294 ]]\n",
      "(13623, 2)\n",
      "(13623, 1)\n",
      "[[0.07909343]\n",
      " [0.9838162 ]\n",
      " [1.        ]\n",
      " ...\n",
      " [0.7789744 ]\n",
      " [0.00875437]\n",
      " [0.3700768 ]]\n",
      "[[False]\n",
      " [ True]\n",
      " [ True]\n",
      " ...\n",
      " [ True]\n",
      " [False]\n",
      " [False]]\n"
     ]
    }
   ],
   "source": [
    "print(y_test)\n",
    "print(y_test.shape)\n",
    "y_pred=model.predict(X_test)\n",
    "print(y_pred)\n",
    "print(y_pred.shape)\n",
    "y_pred= np.delete(y_pred, np.s_[-1:], axis=1)\n",
    "print(y_pred.shape)\n",
    "print(y_pred)\n",
    "y_pred=(y_pred>0.5)\n",
    "print(y_pred)\n",
    "\n",
    "#understand 2 columns because probabilties are not separated \n"
   ]
  },
  {
   "cell_type": "code",
   "execution_count": 96,
   "metadata": {},
   "outputs": [
    {
     "name": "stdout",
     "output_type": "stream",
     "text": [
      "[[6109 1135]\n",
      " [1266 5113]]\n",
      "1266\n"
     ]
    }
   ],
   "source": [
    "from sklearn.metrics import confusion_matrix\n",
    "cm = confusion_matrix(y_test, y_pred) #confusion matrix is not working with continious probability values\n",
    "print(cm)\n",
    "print(cm[1,0])"
   ]
  },
  {
   "cell_type": "code",
   "execution_count": 97,
   "metadata": {},
   "outputs": [
    {
     "name": "stdout",
     "output_type": "stream",
     "text": [
      "0.8283389830508474\n",
      "0.8015362909546951\n"
     ]
    }
   ],
   "source": [
    "sensitivity=cm[0,0]/(cm[0,0]+cm[1,0]) # true positive / actual positive\n",
    "#the model identifies ~16% of Z boson as Higgs\n",
    "specificity=cm[1,1]/(cm[1,0]+cm[1,1]) # true negative / actual negative\n",
    "#the model identifies ~18% of actual Higgs as Z\n",
    "print(sensitivity)\n",
    "print(specificity)"
   ]
  },
  {
   "cell_type": "code",
   "execution_count": null,
   "metadata": {},
   "outputs": [],
   "source": []
  },
  {
   "cell_type": "code",
   "execution_count": null,
   "metadata": {},
   "outputs": [],
   "source": []
  }
 ],
 "metadata": {
  "kernelspec": {
   "display_name": "Python 3",
   "language": "python",
   "name": "python3"
  },
  "language_info": {
   "codemirror_mode": {
    "name": "ipython",
    "version": 3
   },
   "file_extension": ".py",
   "mimetype": "text/x-python",
   "name": "python",
   "nbconvert_exporter": "python",
   "pygments_lexer": "ipython3",
   "version": "3.7.4"
  }
 },
 "nbformat": 4,
 "nbformat_minor": 4
}
