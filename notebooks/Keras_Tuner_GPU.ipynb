{
 "cells": [
  {
   "cell_type": "code",
   "execution_count": 3,
   "metadata": {},
   "outputs": [
    {
     "name": "stdout",
     "output_type": "stream",
     "text": [
      "['/device:GPU:0']\n",
      "(54491, 30)\n"
     ]
    }
   ],
   "source": [
    "import tensorflow as tf\n",
    "import matplotlib.pyplot as plt\n",
    "import seaborn as sns\n",
    "import numpy as np \n",
    "import pandas as pd\n",
    "from sklearn.model_selection import train_test_split\n",
    "import tensorflow.keras as keras\n",
    "from sklearn.preprocessing import StandardScaler\n",
    "from tensorflow.keras.models import Sequential\n",
    "from tensorflow.keras import layers, optimizers, regularizers\n",
    "from tensorflow.keras.layers import Flatten , Activation\n",
    "from tensorflow.keras.layers import Dense\n",
    "from keras.wrappers.scikit_learn import KerasClassifier\n",
    "import time\n",
    "\n",
    "\n",
    "#tf.config.experimental.set_visible_devices([], 'GPU')\n",
    "import keras.backend.tensorflow_backend as tfback\n",
    "\n",
    "def _get_available_gpus():\n",
    "    \"\"\"Get a list of available gpu devices (formatted as strings).\n",
    "    # Source of this function: https://github.com/keras-team/keras/issues/13684\n",
    "    # Returns\n",
    "        A list of available GPU devices.\n",
    "    \"\"\"\n",
    "    #global _LOCAL_DEVICES\n",
    "    if tfback._LOCAL_DEVICES is None:\n",
    "        devices = tf.config.list_logical_devices()\n",
    "        tfback._LOCAL_DEVICES = [x.name for x in devices]\n",
    "    return [x for x in tfback._LOCAL_DEVICES if 'device:gpu' in x.lower()]\n",
    "\n",
    "\n",
    "\n",
    "gpus = tf.config.experimental.list_physical_devices('GPU')\n",
    "tf.config.experimental.set_memory_growth(gpus[1], True)\n",
    "tf.config.set_visible_devices(gpus[1], 'GPU')\n",
    "\n",
    "tfback._get_available_gpus = _get_available_gpus\n",
    "print(_get_available_gpus())\n",
    "\n",
    "                               \n",
    "\n",
    "df =pd.read_csv('Training.csv')\n",
    "\n",
    "df = df.replace(-999, np.nan)\n",
    "df = df.dropna()\n",
    "df.shape\n",
    "df_droped = df.drop(['EventId', 'Weight'], axis=1)\n",
    "df_droped['Label'] = df_droped['Label'].apply({'s':1, 'b':0}.get)\n",
    "X_train, X_test, y_train, y_test = train_test_split(df_droped.drop(['Label'], axis=1), df_droped['Label'], test_size=0.2)\n",
    "y_train = y_train.to_numpy()\n",
    "y_test = y_test.to_numpy()\n",
    "\n",
    "\n",
    "scaler = StandardScaler().fit(X_train)\n",
    "X_train = scaler.transform(X_train)\n",
    "X_test = scaler.transform(X_test)\n",
    "\n",
    "\n",
    "\n",
    "\n",
    "model = Sequential()\n",
    "\n",
    "model.add(Flatten())\n",
    "\n",
    "\n",
    "#model.add(Dense(500))\n",
    "#model.add(Activation(\"relu\")) \n",
    "\n",
    "#model.add(Dense(500))\n",
    "#model.add(Activation(\"relu\"))\n",
    "\n",
    "#model.add(Dense(500))\n",
    "#model.add(Activation(\"relu\"))\n",
    "\n",
    "\n",
    "\n",
    "#model.add(Dense(500))\n",
    "#model.add(Activation('relu')) \n",
    "\n",
    "#model.add(Dense(500))\n",
    "#model.add(Activation('relu')) \n",
    "\n",
    "#model.add(Dense(500))\n",
    "#model.add(Activation('relu')) \n",
    "\n",
    "model.add(Dense(500))\n",
    "model.add(Activation('relu')) \n",
    "\n",
    "model.add(Dense(500))\n",
    "model.add(Activation('relu')) \n",
    "\n",
    "model.add(Dense(500))\n",
    "model.add(Activation(\"relu\"))\n",
    "          \n",
    "          \n",
    "model.add(Dense(500))\n",
    "model.add(Activation('relu'))          \n",
    "          \n",
    "\n",
    "# Add an output layer \n",
    "model.add(Dense(1))\n",
    "model.add(Activation('sigmoid'))\n",
    "\n",
    "\n",
    "model.compile(loss='binary_crossentropy', optimizer='adam',metrics=['accuracy'])\n",
    "\n",
    "print(X_train.shape)\n",
    "\n",
    "\n",
    "\n",
    "#model.fit(X_train,y_train, epochs=3 ,batch_size=32)\n",
    "\n",
    "\n",
    "\n",
    "    \n",
    "\n",
    "\n"
   ]
  },
  {
   "cell_type": "code",
   "execution_count": 4,
   "metadata": {},
   "outputs": [],
   "source": [
    "import kerastuner as kt\n",
    "from kerastuner.tuners import RandomSearch\n",
    "from kerastuner.engine.hyperparameters import HyperParameters"
   ]
  },
  {
   "cell_type": "code",
   "execution_count": 5,
   "metadata": {},
   "outputs": [],
   "source": [
    "import time\n",
    "LOG_DIR = f\"{int(time.time())}\"\n",
    "def build_model(hp):\n",
    "    #input\n",
    "    \n",
    "    #model.add(Dense(hp.Int('input_units', min_value=50, max_value=5000, step=100)))\n",
    "    #model.add(Activation('relu')) \n",
    "    \n",
    "    for i in range(hp.Int('n_layers', 1, 10)):  # adding variation of layers.\n",
    "            model.add(Dense(hp.Int(f'Dense_{i}_units',min_value=50,max_value=5000,step=100)))\n",
    "            model.add(Activation('relu'))\n",
    "            \n",
    "\n",
    "    #model.add(Dense(500))\n",
    "    #model.add(Activation('relu')) \n",
    "\n",
    "    #model.add(Dense(500))\n",
    "    #model.add(Activation(\"relu\"))\n",
    "          \n",
    "          \n",
    "    #model.add(Dense(500))\n",
    "    #model.add(Activation('relu'))          \n",
    "          \n",
    "\n",
    "    # Add an output layer \n",
    "    model.add(Dense(1))\n",
    "    model.add(Activation('sigmoid'))\n",
    "    model.compile(loss='binary_crossentropy', optimizer='adam',metrics=['accuracy'])\n",
    "    return model\n"
   ]
  },
  {
   "cell_type": "code",
   "execution_count": 6,
   "metadata": {},
   "outputs": [
    {
     "name": "stdout",
     "output_type": "stream",
     "text": [
      "Train on 54491 samples, validate on 13623 samples\n",
      "Epoch 1/10\n",
      "54491/54491 - 7s - loss: 0.4362 - accuracy: 0.7886 - val_loss: 0.3809 - val_accuracy: 0.8322\n",
      "Epoch 2/10\n",
      "54491/54491 - 7s - loss: 0.3663 - accuracy: 0.8375 - val_loss: 0.3604 - val_accuracy: 0.8424\n",
      "Epoch 3/10\n",
      "54491/54491 - 7s - loss: 0.3557 - accuracy: 0.8432 - val_loss: 0.3569 - val_accuracy: 0.8453\n",
      "Epoch 4/10\n",
      "54491/54491 - 6s - loss: 0.3503 - accuracy: 0.8456 - val_loss: 0.3573 - val_accuracy: 0.8434\n",
      "Epoch 5/10\n",
      "54491/54491 - 6s - loss: 0.3450 - accuracy: 0.8482 - val_loss: 0.3551 - val_accuracy: 0.8439\n",
      "Epoch 6/10\n",
      "54491/54491 - 6s - loss: 0.3395 - accuracy: 0.8507 - val_loss: 0.3564 - val_accuracy: 0.8418\n",
      "Epoch 7/10\n",
      "54491/54491 - 6s - loss: 0.3344 - accuracy: 0.8527 - val_loss: 0.3548 - val_accuracy: 0.8453\n",
      "Epoch 8/10\n",
      "54491/54491 - 6s - loss: 0.3301 - accuracy: 0.8543 - val_loss: 0.3578 - val_accuracy: 0.8392\n",
      "Epoch 9/10\n",
      "54491/54491 - 6s - loss: 0.3248 - accuracy: 0.8577 - val_loss: 0.3603 - val_accuracy: 0.8445\n",
      "Epoch 10/10\n",
      "54491/54491 - 6s - loss: 0.3193 - accuracy: 0.8606 - val_loss: 0.3582 - val_accuracy: 0.8393\n",
      "Train on 54491 samples, validate on 13623 samples\n",
      "Epoch 1/10\n",
      "54491/54491 - 9s - loss: 0.3335 - accuracy: 0.8584 - val_loss: 0.3666 - val_accuracy: 0.8375\n",
      "Epoch 2/10\n",
      "54491/54491 - 8s - loss: 0.3126 - accuracy: 0.8641 - val_loss: 0.3679 - val_accuracy: 0.8395\n",
      "Epoch 3/10\n",
      "54491/54491 - 8s - loss: 0.3056 - accuracy: 0.8677 - val_loss: 0.3723 - val_accuracy: 0.8372\n",
      "Epoch 4/10\n",
      "54491/54491 - 8s - loss: 0.2967 - accuracy: 0.8729 - val_loss: 0.4008 - val_accuracy: 0.8382\n",
      "Epoch 5/10\n",
      "54491/54491 - 8s - loss: 0.2907 - accuracy: 0.8768 - val_loss: 0.3846 - val_accuracy: 0.8334\n",
      "Epoch 6/10\n",
      "54491/54491 - 8s - loss: 0.2792 - accuracy: 0.8826 - val_loss: 0.3840 - val_accuracy: 0.8340\n",
      "Epoch 7/10\n",
      "54491/54491 - 8s - loss: 0.2725 - accuracy: 0.8867 - val_loss: 0.4163 - val_accuracy: 0.8346\n",
      "Epoch 8/10\n",
      "54491/54491 - 8s - loss: 0.2611 - accuracy: 0.8918 - val_loss: 0.4256 - val_accuracy: 0.8289\n",
      "Epoch 9/10\n",
      "54491/54491 - 8s - loss: 0.2488 - accuracy: 0.8991 - val_loss: 0.4260 - val_accuracy: 0.8235\n",
      "Epoch 10/10\n",
      "54491/54491 - 8s - loss: 0.2384 - accuracy: 0.9046 - val_loss: 0.4681 - val_accuracy: 0.8177\n",
      "Train on 54491 samples, validate on 13623 samples\n",
      "Epoch 1/10\n",
      "54491/54491 - 11s - loss: 0.2611 - accuracy: 0.9008 - val_loss: 0.5054 - val_accuracy: 0.8149\n",
      "Epoch 2/10\n",
      "54491/54491 - 10s - loss: 0.2304 - accuracy: 0.9090 - val_loss: 0.5326 - val_accuracy: 0.8049\n",
      "Epoch 3/10\n",
      "54491/54491 - 10s - loss: 0.2229 - accuracy: 0.9140 - val_loss: 0.4796 - val_accuracy: 0.8220\n",
      "Epoch 4/10\n",
      "54491/54491 - 10s - loss: 0.2193 - accuracy: 0.9159 - val_loss: 0.4422 - val_accuracy: 0.8163\n",
      "Epoch 5/10\n",
      "54491/54491 - 10s - loss: 0.2040 - accuracy: 0.9235 - val_loss: 0.5682 - val_accuracy: 0.8133\n",
      "Epoch 6/10\n",
      "54491/54491 - 10s - loss: 0.2087 - accuracy: 0.9224 - val_loss: 0.4835 - val_accuracy: 0.8220\n",
      "Epoch 7/10\n",
      "54491/54491 - 10s - loss: 0.1983 - accuracy: 0.9270 - val_loss: 0.5161 - val_accuracy: 0.8191\n",
      "Epoch 8/10\n",
      "54491/54491 - 10s - loss: 0.1903 - accuracy: 0.9303 - val_loss: 0.5044 - val_accuracy: 0.8131\n",
      "Epoch 9/10\n",
      "54491/54491 - 10s - loss: 0.1825 - accuracy: 0.9334 - val_loss: 0.5229 - val_accuracy: 0.8139\n",
      "Epoch 10/10\n",
      "54491/54491 - 10s - loss: 0.1679 - accuracy: 0.9420 - val_loss: 0.5978 - val_accuracy: 0.8147\n"
     ]
    },
    {
     "data": {
      "text/html": [
       "<span style=\"color:#4527A0\"><h1 style=\"font-size:18px\">Trial complete</h1></span>"
      ],
      "text/plain": [
       "<IPython.core.display.HTML object>"
      ]
     },
     "metadata": {},
     "output_type": "display_data"
    },
    {
     "data": {
      "text/html": [
       "<span style=\"color:#4527A0\"><h1 style=\"font-size:18px\">Trial summary</h1></span>"
      ],
      "text/plain": [
       "<IPython.core.display.HTML object>"
      ]
     },
     "metadata": {},
     "output_type": "display_data"
    },
    {
     "data": {
      "text/html": [
       "<span style=\"color:cyan\"> |-Trial ID: 1808091be420962fee7502ac4827fb65</span>"
      ],
      "text/plain": [
       "<IPython.core.display.HTML object>"
      ]
     },
     "metadata": {},
     "output_type": "display_data"
    },
    {
     "data": {
      "text/html": [
       "<span style=\"color:cyan\"> |-Score: 0.8356211185455322</span>"
      ],
      "text/plain": [
       "<IPython.core.display.HTML object>"
      ]
     },
     "metadata": {},
     "output_type": "display_data"
    },
    {
     "data": {
      "text/html": [
       "<span style=\"color:cyan\"> |-Best step: 0</span>"
      ],
      "text/plain": [
       "<IPython.core.display.HTML object>"
      ]
     },
     "metadata": {},
     "output_type": "display_data"
    },
    {
     "data": {
      "text/html": [
       "<span style=\"color:#7E57C2\"><h2 style=\"font-size:16px\">Hyperparameters:</h2></span>"
      ],
      "text/plain": [
       "<IPython.core.display.HTML object>"
      ]
     },
     "metadata": {},
     "output_type": "display_data"
    },
    {
     "data": {
      "text/html": [
       "<span style=\"color:cyan\"> |-Dense_0_units: 850</span>"
      ],
      "text/plain": [
       "<IPython.core.display.HTML object>"
      ]
     },
     "metadata": {},
     "output_type": "display_data"
    },
    {
     "data": {
      "text/html": [
       "<span style=\"color:blue\"> |-Dense_1_units: 50</span>"
      ],
      "text/plain": [
       "<IPython.core.display.HTML object>"
      ]
     },
     "metadata": {},
     "output_type": "display_data"
    },
    {
     "data": {
      "text/html": [
       "<span style=\"color:cyan\"> |-Dense_2_units: 50</span>"
      ],
      "text/plain": [
       "<IPython.core.display.HTML object>"
      ]
     },
     "metadata": {},
     "output_type": "display_data"
    },
    {
     "data": {
      "text/html": [
       "<span style=\"color:blue\"> |-Dense_3_units: 50</span>"
      ],
      "text/plain": [
       "<IPython.core.display.HTML object>"
      ]
     },
     "metadata": {},
     "output_type": "display_data"
    },
    {
     "data": {
      "text/html": [
       "<span style=\"color:cyan\"> |-Dense_4_units: 50</span>"
      ],
      "text/plain": [
       "<IPython.core.display.HTML object>"
      ]
     },
     "metadata": {},
     "output_type": "display_data"
    },
    {
     "data": {
      "text/html": [
       "<span style=\"color:blue\"> |-Dense_5_units: 50</span>"
      ],
      "text/plain": [
       "<IPython.core.display.HTML object>"
      ]
     },
     "metadata": {},
     "output_type": "display_data"
    },
    {
     "data": {
      "text/html": [
       "<span style=\"color:cyan\"> |-Dense_6_units: 50</span>"
      ],
      "text/plain": [
       "<IPython.core.display.HTML object>"
      ]
     },
     "metadata": {},
     "output_type": "display_data"
    },
    {
     "data": {
      "text/html": [
       "<span style=\"color:blue\"> |-Dense_7_units: 50</span>"
      ],
      "text/plain": [
       "<IPython.core.display.HTML object>"
      ]
     },
     "metadata": {},
     "output_type": "display_data"
    },
    {
     "data": {
      "text/html": [
       "<span style=\"color:cyan\"> |-Dense_8_units: 50</span>"
      ],
      "text/plain": [
       "<IPython.core.display.HTML object>"
      ]
     },
     "metadata": {},
     "output_type": "display_data"
    },
    {
     "data": {
      "text/html": [
       "<span style=\"color:blue\"> |-n_layers: 9</span>"
      ],
      "text/plain": [
       "<IPython.core.display.HTML object>"
      ]
     },
     "metadata": {},
     "output_type": "display_data"
    },
    {
     "name": "stdout",
     "output_type": "stream",
     "text": [
      "INFO:tensorflow:Oracle triggered exit\n",
      "Model: \"sequential_1\"\n",
      "_________________________________________________________________\n",
      "Layer (type)                 Output Shape              Param #   \n",
      "=================================================================\n",
      "flatten_1 (Flatten)          multiple                  0         \n",
      "_________________________________________________________________\n",
      "dense_5 (Dense)              multiple                  15500     \n",
      "_________________________________________________________________\n",
      "activation_5 (Activation)    multiple                  0         \n",
      "_________________________________________________________________\n",
      "dense_6 (Dense)              multiple                  250500    \n",
      "_________________________________________________________________\n",
      "activation_6 (Activation)    multiple                  0         \n",
      "_________________________________________________________________\n",
      "dense_7 (Dense)              multiple                  250500    \n",
      "_________________________________________________________________\n",
      "activation_7 (Activation)    multiple                  0         \n",
      "_________________________________________________________________\n",
      "dense_8 (Dense)              multiple                  250500    \n",
      "_________________________________________________________________\n",
      "activation_8 (Activation)    multiple                  0         \n",
      "_________________________________________________________________\n",
      "dense_9 (Dense)              multiple                  501       \n",
      "_________________________________________________________________\n",
      "activation_9 (Activation)    multiple                  0         \n",
      "_________________________________________________________________\n",
      "dense (Dense)                multiple                  100       \n",
      "_________________________________________________________________\n",
      "activation (Activation)      multiple                  0         \n",
      "_________________________________________________________________\n",
      "dense_1 (Dense)              multiple                  51        \n",
      "_________________________________________________________________\n",
      "activation_1 (Activation)    multiple                  0         \n",
      "_________________________________________________________________\n",
      "dense (Dense)                multiple                  1700      \n",
      "_________________________________________________________________\n",
      "activation (Activation)      multiple                  0         \n",
      "_________________________________________________________________\n",
      "dense_1 (Dense)              multiple                  42550     \n",
      "_________________________________________________________________\n",
      "activation_1 (Activation)    multiple                  0         \n",
      "_________________________________________________________________\n",
      "dense_2 (Dense)              multiple                  2550      \n",
      "_________________________________________________________________\n",
      "activation_2 (Activation)    multiple                  0         \n",
      "_________________________________________________________________\n",
      "dense_3 (Dense)              multiple                  2550      \n",
      "_________________________________________________________________\n",
      "activation_3 (Activation)    multiple                  0         \n",
      "_________________________________________________________________\n",
      "dense_4 (Dense)              multiple                  2550      \n",
      "_________________________________________________________________\n",
      "activation_4 (Activation)    multiple                  0         \n",
      "_________________________________________________________________\n",
      "dense_5 (Dense)              multiple                  2550      \n",
      "_________________________________________________________________\n",
      "activation_5 (Activation)    multiple                  0         \n",
      "_________________________________________________________________\n",
      "dense_6 (Dense)              multiple                  2550      \n",
      "_________________________________________________________________\n",
      "activation_6 (Activation)    multiple                  0         \n",
      "_________________________________________________________________\n",
      "dense_7 (Dense)              multiple                  2550      \n",
      "_________________________________________________________________\n",
      "activation_7 (Activation)    multiple                  0         \n",
      "_________________________________________________________________\n",
      "dense_8 (Dense)              multiple                  2550      \n",
      "_________________________________________________________________\n",
      "activation_8 (Activation)    multiple                  0         \n",
      "_________________________________________________________________\n",
      "dense_9 (Dense)              multiple                  51        \n",
      "_________________________________________________________________\n",
      "activation_9 (Activation)    multiple                  0         \n",
      "_________________________________________________________________\n",
      "dense (Dense)                multiple                  1700      \n",
      "_________________________________________________________________\n",
      "activation (Activation)      multiple                  0         \n",
      "_________________________________________________________________\n",
      "dense_1 (Dense)              multiple                  42550     \n",
      "_________________________________________________________________\n",
      "activation_1 (Activation)    multiple                  0         \n",
      "_________________________________________________________________\n",
      "dense_2 (Dense)              multiple                  2550      \n",
      "_________________________________________________________________\n",
      "activation_2 (Activation)    multiple                  0         \n",
      "_________________________________________________________________\n",
      "dense_3 (Dense)              multiple                  2550      \n",
      "_________________________________________________________________\n",
      "activation_3 (Activation)    multiple                  0         \n",
      "_________________________________________________________________\n",
      "dense_4 (Dense)              multiple                  2550      \n",
      "_________________________________________________________________\n",
      "activation_4 (Activation)    multiple                  0         \n",
      "_________________________________________________________________\n",
      "dense_5 (Dense)              multiple                  2550      \n",
      "_________________________________________________________________\n",
      "activation_5 (Activation)    multiple                  0         \n",
      "_________________________________________________________________\n",
      "dense_6 (Dense)              multiple                  2550      \n",
      "_________________________________________________________________\n",
      "activation_6 (Activation)    multiple                  0         \n",
      "_________________________________________________________________\n",
      "dense_7 (Dense)              multiple                  2550      \n",
      "_________________________________________________________________\n",
      "activation_7 (Activation)    multiple                  0         \n",
      "_________________________________________________________________\n",
      "dense_8 (Dense)              multiple                  2550      \n",
      "_________________________________________________________________\n",
      "activation_8 (Activation)    multiple                  0         \n",
      "_________________________________________________________________\n",
      "dense_9 (Dense)              multiple                  51        \n",
      "_________________________________________________________________\n",
      "activation_9 (Activation)    multiple                  0         \n",
      "_________________________________________________________________\n",
      "dense (Dense)                multiple                  1700      \n",
      "_________________________________________________________________\n",
      "activation (Activation)      multiple                  0         \n",
      "_________________________________________________________________\n",
      "dense_1 (Dense)              multiple                  42550     \n",
      "_________________________________________________________________\n",
      "activation_1 (Activation)    multiple                  0         \n",
      "_________________________________________________________________\n",
      "dense_2 (Dense)              multiple                  2550      \n",
      "_________________________________________________________________\n",
      "activation_2 (Activation)    multiple                  0         \n",
      "_________________________________________________________________\n",
      "dense_3 (Dense)              multiple                  2550      \n",
      "_________________________________________________________________\n",
      "activation_3 (Activation)    multiple                  0         \n",
      "_________________________________________________________________\n",
      "dense_4 (Dense)              multiple                  2550      \n",
      "_________________________________________________________________\n",
      "activation_4 (Activation)    multiple                  0         \n",
      "_________________________________________________________________\n",
      "dense_5 (Dense)              multiple                  2550      \n",
      "_________________________________________________________________\n",
      "activation_5 (Activation)    multiple                  0         \n",
      "_________________________________________________________________\n",
      "dense_6 (Dense)              multiple                  2550      \n",
      "_________________________________________________________________\n",
      "activation_6 (Activation)    multiple                  0         \n",
      "_________________________________________________________________\n",
      "dense_7 (Dense)              multiple                  2550      \n",
      "_________________________________________________________________\n",
      "activation_7 (Activation)    multiple                  0         \n",
      "_________________________________________________________________\n",
      "dense_8 (Dense)              multiple                  2550      \n",
      "_________________________________________________________________\n",
      "activation_8 (Activation)    multiple                  0         \n",
      "_________________________________________________________________\n",
      "dense_9 (Dense)              multiple                  51        \n",
      "_________________________________________________________________\n",
      "activation_9 (Activation)    multiple                  0         \n",
      "_________________________________________________________________\n",
      "dense (Dense)                multiple                  1700      \n",
      "_________________________________________________________________\n",
      "activation (Activation)      multiple                  0         \n",
      "_________________________________________________________________\n",
      "dense_1 (Dense)              multiple                  42550     \n",
      "_________________________________________________________________\n",
      "activation_1 (Activation)    multiple                  0         \n",
      "_________________________________________________________________\n",
      "dense_2 (Dense)              multiple                  2550      \n",
      "_________________________________________________________________\n",
      "activation_2 (Activation)    multiple                  0         \n",
      "_________________________________________________________________\n",
      "dense_3 (Dense)              multiple                  2550      \n",
      "_________________________________________________________________\n",
      "activation_3 (Activation)    multiple                  0         \n",
      "_________________________________________________________________\n",
      "dense_4 (Dense)              multiple                  2550      \n",
      "_________________________________________________________________\n",
      "activation_4 (Activation)    multiple                  0         \n",
      "_________________________________________________________________\n",
      "dense_5 (Dense)              multiple                  2550      \n",
      "_________________________________________________________________\n",
      "activation_5 (Activation)    multiple                  0         \n",
      "_________________________________________________________________\n",
      "dense_6 (Dense)              multiple                  2550      \n",
      "_________________________________________________________________\n",
      "activation_6 (Activation)    multiple                  0         \n",
      "_________________________________________________________________\n",
      "dense_7 (Dense)              multiple                  2550      \n",
      "_________________________________________________________________\n",
      "activation_7 (Activation)    multiple                  0         \n",
      "_________________________________________________________________\n",
      "dense_8 (Dense)              multiple                  2550      \n",
      "_________________________________________________________________\n",
      "activation_8 (Activation)    multiple                  0         \n",
      "_________________________________________________________________\n",
      "dense_9 (Dense)              multiple                  51        \n",
      "_________________________________________________________________\n",
      "activation_9 (Activation)    multiple                  0         \n",
      "=================================================================\n",
      "Total params: 1,016,256\n",
      "Trainable params: 1,016,256\n",
      "Non-trainable params: 0\n",
      "_________________________________________________________________\n"
     ]
    },
    {
     "data": {
      "text/html": [
       "<span style=\"color:#4527A0\"><h1 style=\"font-size:18px\">Results summary</h1></span>"
      ],
      "text/plain": [
       "<IPython.core.display.HTML object>"
      ]
     },
     "metadata": {},
     "output_type": "display_data"
    },
    {
     "data": {
      "text/html": [
       "<span style=\"color:cyan\"> |-Results in 1591095502/untitled_project</span>"
      ],
      "text/plain": [
       "<IPython.core.display.HTML object>"
      ]
     },
     "metadata": {},
     "output_type": "display_data"
    },
    {
     "data": {
      "text/html": [
       "<span style=\"color:cyan\"> |-Showing 10 best trials</span>"
      ],
      "text/plain": [
       "<IPython.core.display.HTML object>"
      ]
     },
     "metadata": {},
     "output_type": "display_data"
    },
    {
     "data": {
      "text/html": [
       "<span style=\"color:cyan\"> |-Objective(name='val_accuracy', direction='max')</span>"
      ],
      "text/plain": [
       "<IPython.core.display.HTML object>"
      ]
     },
     "metadata": {},
     "output_type": "display_data"
    },
    {
     "data": {
      "text/html": [
       "<span style=\"color:#4527A0\"><h1 style=\"font-size:18px\">Trial summary</h1></span>"
      ],
      "text/plain": [
       "<IPython.core.display.HTML object>"
      ]
     },
     "metadata": {},
     "output_type": "display_data"
    },
    {
     "data": {
      "text/html": [
       "<span style=\"color:cyan\"> |-Trial ID: 1808091be420962fee7502ac4827fb65</span>"
      ],
      "text/plain": [
       "<IPython.core.display.HTML object>"
      ]
     },
     "metadata": {},
     "output_type": "display_data"
    },
    {
     "data": {
      "text/html": [
       "<span style=\"color:cyan\"> |-Score: 0.8356211185455322</span>"
      ],
      "text/plain": [
       "<IPython.core.display.HTML object>"
      ]
     },
     "metadata": {},
     "output_type": "display_data"
    },
    {
     "data": {
      "text/html": [
       "<span style=\"color:cyan\"> |-Best step: 0</span>"
      ],
      "text/plain": [
       "<IPython.core.display.HTML object>"
      ]
     },
     "metadata": {},
     "output_type": "display_data"
    },
    {
     "data": {
      "text/html": [
       "<span style=\"color:#7E57C2\"><h2 style=\"font-size:16px\">Hyperparameters:</h2></span>"
      ],
      "text/plain": [
       "<IPython.core.display.HTML object>"
      ]
     },
     "metadata": {},
     "output_type": "display_data"
    },
    {
     "data": {
      "text/html": [
       "<span style=\"color:cyan\"> |-Dense_0_units: 850</span>"
      ],
      "text/plain": [
       "<IPython.core.display.HTML object>"
      ]
     },
     "metadata": {},
     "output_type": "display_data"
    },
    {
     "data": {
      "text/html": [
       "<span style=\"color:blue\"> |-Dense_1_units: 50</span>"
      ],
      "text/plain": [
       "<IPython.core.display.HTML object>"
      ]
     },
     "metadata": {},
     "output_type": "display_data"
    },
    {
     "data": {
      "text/html": [
       "<span style=\"color:cyan\"> |-Dense_2_units: 50</span>"
      ],
      "text/plain": [
       "<IPython.core.display.HTML object>"
      ]
     },
     "metadata": {},
     "output_type": "display_data"
    },
    {
     "data": {
      "text/html": [
       "<span style=\"color:blue\"> |-Dense_3_units: 50</span>"
      ],
      "text/plain": [
       "<IPython.core.display.HTML object>"
      ]
     },
     "metadata": {},
     "output_type": "display_data"
    },
    {
     "data": {
      "text/html": [
       "<span style=\"color:cyan\"> |-Dense_4_units: 50</span>"
      ],
      "text/plain": [
       "<IPython.core.display.HTML object>"
      ]
     },
     "metadata": {},
     "output_type": "display_data"
    },
    {
     "data": {
      "text/html": [
       "<span style=\"color:blue\"> |-Dense_5_units: 50</span>"
      ],
      "text/plain": [
       "<IPython.core.display.HTML object>"
      ]
     },
     "metadata": {},
     "output_type": "display_data"
    },
    {
     "data": {
      "text/html": [
       "<span style=\"color:cyan\"> |-Dense_6_units: 50</span>"
      ],
      "text/plain": [
       "<IPython.core.display.HTML object>"
      ]
     },
     "metadata": {},
     "output_type": "display_data"
    },
    {
     "data": {
      "text/html": [
       "<span style=\"color:blue\"> |-Dense_7_units: 50</span>"
      ],
      "text/plain": [
       "<IPython.core.display.HTML object>"
      ]
     },
     "metadata": {},
     "output_type": "display_data"
    },
    {
     "data": {
      "text/html": [
       "<span style=\"color:cyan\"> |-Dense_8_units: 50</span>"
      ],
      "text/plain": [
       "<IPython.core.display.HTML object>"
      ]
     },
     "metadata": {},
     "output_type": "display_data"
    },
    {
     "data": {
      "text/html": [
       "<span style=\"color:blue\"> |-n_layers: 9</span>"
      ],
      "text/plain": [
       "<IPython.core.display.HTML object>"
      ]
     },
     "metadata": {},
     "output_type": "display_data"
    }
   ],
   "source": [
    "LOG_DIR = f\"{int(time.time())}\"\n",
    "\n",
    "tuner = RandomSearch(\n",
    "    build_model,\n",
    "    objective='val_accuracy',\n",
    "    max_trials=1,  # how many model variations to test?\n",
    "    executions_per_trial=3,  # how many trials per variation? (same model could perform differently)\n",
    "    directory=LOG_DIR)\n",
    "\n",
    "tuner.search(x=X_train,\n",
    "             y=y_train,\n",
    "             verbose=2, \n",
    "             epochs=10,\n",
    "             batch_size=64,\n",
    "            \n",
    "             validation_data=(X_test, y_test))\n",
    "\n",
    "tuner.get_best_hyperparameters()[0].values\n",
    "tuner.get_best_models()[0].summary()\n",
    "tuner.results_summary()"
   ]
  },
  {
   "cell_type": "code",
   "execution_count": 8,
   "metadata": {},
   "outputs": [
    {
     "data": {
      "text/html": [
       "<span style=\"color:#4527A0\"><h1 style=\"font-size:18px\">Results summary</h1></span>"
      ],
      "text/plain": [
       "<IPython.core.display.HTML object>"
      ]
     },
     "metadata": {},
     "output_type": "display_data"
    },
    {
     "data": {
      "text/html": [
       "<span style=\"color:cyan\"> |-Results in 1591095502/untitled_project</span>"
      ],
      "text/plain": [
       "<IPython.core.display.HTML object>"
      ]
     },
     "metadata": {},
     "output_type": "display_data"
    },
    {
     "data": {
      "text/html": [
       "<span style=\"color:cyan\"> |-Showing 10 best trials</span>"
      ],
      "text/plain": [
       "<IPython.core.display.HTML object>"
      ]
     },
     "metadata": {},
     "output_type": "display_data"
    },
    {
     "data": {
      "text/html": [
       "<span style=\"color:cyan\"> |-Objective(name='val_accuracy', direction='max')</span>"
      ],
      "text/plain": [
       "<IPython.core.display.HTML object>"
      ]
     },
     "metadata": {},
     "output_type": "display_data"
    },
    {
     "data": {
      "text/html": [
       "<span style=\"color:#4527A0\"><h1 style=\"font-size:18px\">Trial summary</h1></span>"
      ],
      "text/plain": [
       "<IPython.core.display.HTML object>"
      ]
     },
     "metadata": {},
     "output_type": "display_data"
    },
    {
     "data": {
      "text/html": [
       "<span style=\"color:cyan\"> |-Trial ID: 1808091be420962fee7502ac4827fb65</span>"
      ],
      "text/plain": [
       "<IPython.core.display.HTML object>"
      ]
     },
     "metadata": {},
     "output_type": "display_data"
    },
    {
     "data": {
      "text/html": [
       "<span style=\"color:cyan\"> |-Score: 0.8356211185455322</span>"
      ],
      "text/plain": [
       "<IPython.core.display.HTML object>"
      ]
     },
     "metadata": {},
     "output_type": "display_data"
    },
    {
     "data": {
      "text/html": [
       "<span style=\"color:cyan\"> |-Best step: 0</span>"
      ],
      "text/plain": [
       "<IPython.core.display.HTML object>"
      ]
     },
     "metadata": {},
     "output_type": "display_data"
    },
    {
     "data": {
      "text/html": [
       "<span style=\"color:#7E57C2\"><h2 style=\"font-size:16px\">Hyperparameters:</h2></span>"
      ],
      "text/plain": [
       "<IPython.core.display.HTML object>"
      ]
     },
     "metadata": {},
     "output_type": "display_data"
    },
    {
     "data": {
      "text/html": [
       "<span style=\"color:cyan\"> |-Dense_0_units: 850</span>"
      ],
      "text/plain": [
       "<IPython.core.display.HTML object>"
      ]
     },
     "metadata": {},
     "output_type": "display_data"
    },
    {
     "data": {
      "text/html": [
       "<span style=\"color:blue\"> |-Dense_1_units: 50</span>"
      ],
      "text/plain": [
       "<IPython.core.display.HTML object>"
      ]
     },
     "metadata": {},
     "output_type": "display_data"
    },
    {
     "data": {
      "text/html": [
       "<span style=\"color:cyan\"> |-Dense_2_units: 50</span>"
      ],
      "text/plain": [
       "<IPython.core.display.HTML object>"
      ]
     },
     "metadata": {},
     "output_type": "display_data"
    },
    {
     "data": {
      "text/html": [
       "<span style=\"color:blue\"> |-Dense_3_units: 50</span>"
      ],
      "text/plain": [
       "<IPython.core.display.HTML object>"
      ]
     },
     "metadata": {},
     "output_type": "display_data"
    },
    {
     "data": {
      "text/html": [
       "<span style=\"color:cyan\"> |-Dense_4_units: 50</span>"
      ],
      "text/plain": [
       "<IPython.core.display.HTML object>"
      ]
     },
     "metadata": {},
     "output_type": "display_data"
    },
    {
     "data": {
      "text/html": [
       "<span style=\"color:blue\"> |-Dense_5_units: 50</span>"
      ],
      "text/plain": [
       "<IPython.core.display.HTML object>"
      ]
     },
     "metadata": {},
     "output_type": "display_data"
    },
    {
     "data": {
      "text/html": [
       "<span style=\"color:cyan\"> |-Dense_6_units: 50</span>"
      ],
      "text/plain": [
       "<IPython.core.display.HTML object>"
      ]
     },
     "metadata": {},
     "output_type": "display_data"
    },
    {
     "data": {
      "text/html": [
       "<span style=\"color:blue\"> |-Dense_7_units: 50</span>"
      ],
      "text/plain": [
       "<IPython.core.display.HTML object>"
      ]
     },
     "metadata": {},
     "output_type": "display_data"
    },
    {
     "data": {
      "text/html": [
       "<span style=\"color:cyan\"> |-Dense_8_units: 50</span>"
      ],
      "text/plain": [
       "<IPython.core.display.HTML object>"
      ]
     },
     "metadata": {},
     "output_type": "display_data"
    },
    {
     "data": {
      "text/html": [
       "<span style=\"color:blue\"> |-n_layers: 9</span>"
      ],
      "text/plain": [
       "<IPython.core.display.HTML object>"
      ]
     },
     "metadata": {},
     "output_type": "display_data"
    }
   ],
   "source": [
    "import pickle\n",
    "#tuner.get_best_hyperparameters()[0].values\n",
    "#tuner.get_best_models()[0].summary()\n",
    "tuner.results_summary()"
   ]
  },
  {
   "cell_type": "code",
   "execution_count": null,
   "metadata": {},
   "outputs": [],
   "source": []
  }
 ],
 "metadata": {
  "kernelspec": {
   "display_name": "Python 3",
   "language": "python",
   "name": "python3"
  },
  "language_info": {
   "codemirror_mode": {
    "name": "ipython",
    "version": 3
   },
   "file_extension": ".py",
   "mimetype": "text/x-python",
   "name": "python",
   "nbconvert_exporter": "python",
   "pygments_lexer": "ipython3",
   "version": "3.7.6"
  }
 },
 "nbformat": 4,
 "nbformat_minor": 4
}
